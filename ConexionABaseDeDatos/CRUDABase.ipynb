{
 "cells": [
  {
   "cell_type": "markdown",
   "metadata": {},
   "source": [
    "Aca se realizarán diferentes CRUD a la base de datos, esto con el fin de mostrar que desde Python es posible realizarlo"
   ]
  },
  {
   "cell_type": "code",
   "execution_count": 1,
   "metadata": {},
   "outputs": [
    {
     "name": "stdout",
     "output_type": "stream",
     "text": [
      "Hola Mundo\n"
     ]
    }
   ],
   "source": [
    "#Validamos funcionamiento del entorno\n",
    "print('Hola Mundo')\n",
    "#Recordar que es necesario tener instalalo el conector de mwsql a nivel local, esto se hace con pip install mysql-connector-python"
   ]
  },
  {
   "cell_type": "markdown",
   "metadata": {},
   "source": [
    "INSERTAR DATOS"
   ]
  },
  {
   "cell_type": "markdown",
   "metadata": {},
   "source": [
    "Validamos, librerias y conexión"
   ]
  },
  {
   "cell_type": "code",
   "execution_count": 2,
   "metadata": {},
   "outputs": [],
   "source": [
    "#Importamos librerias\n",
    "import mysql.connector"
   ]
  },
  {
   "cell_type": "code",
   "execution_count": 62,
   "metadata": {},
   "outputs": [
    {
     "name": "stdout",
     "output_type": "stream",
     "text": [
      "<mysql.connector.connection_cext.CMySQLConnection object at 0x000002BA3972E710>\n"
     ]
    }
   ],
   "source": [
    "#Creamos variables y establecemos credenciales de conexion\n",
    "conexion = mysql.connector.connect(\n",
    "    user='root',\n",
    "    password='',\n",
    "    host='localhost',\n",
    "    database='tienda',\n",
    "    port='3306')\n",
    "print(conexion)"
   ]
  },
  {
   "cell_type": "code",
   "execution_count": 13,
   "metadata": {},
   "outputs": [],
   "source": [
    "#Ingresamos sentencia de inserción de datos a la BD, PERO DENTRO DE UNA VARIABLE\n",
    "sql = 'INSERT INTO compras (ID, nombre, cantidad, precio) VALUES (%s, %s, %s, %s)'"
   ]
  },
  {
   "cell_type": "code",
   "execution_count": 14,
   "metadata": {},
   "outputs": [],
   "source": [
    "#Ingresamos los valores\n",
    "values = (2, 'pantalones', 5, '30000')"
   ]
  },
  {
   "cell_type": "code",
   "execution_count": 15,
   "metadata": {},
   "outputs": [],
   "source": [
    "cursor = conexion.cursor()\n",
    "cursor.execute(sql,values)"
   ]
  },
  {
   "cell_type": "markdown",
   "metadata": {},
   "source": [
    "Enviamos a la base de datos la información"
   ]
  },
  {
   "cell_type": "code",
   "execution_count": 16,
   "metadata": {},
   "outputs": [],
   "source": [
    "conexion.commit()"
   ]
  },
  {
   "cell_type": "markdown",
   "metadata": {},
   "source": [
    "Validamos si quedo el insert de forma correcta"
   ]
  },
  {
   "cell_type": "code",
   "execution_count": 18,
   "metadata": {},
   "outputs": [
    {
     "name": "stdout",
     "output_type": "stream",
     "text": [
      "(1, 'camisa', 2, '2000')\n",
      "(2, 'pantalones', 5, '30000')\n",
      "(3, 'camisa', 6, '20000')\n"
     ]
    }
   ],
   "source": [
    "import sqlite3\n",
    "# Crear un cursor\n",
    "cursor = conexion.cursor()\n",
    "# Ejecutar la consulta\n",
    "cursor.execute(\"SELECT * FROM compras\")\n",
    "# Obtener los resultados\n",
    "resultado = cursor.fetchall()\n",
    "# Cerrar la conexión\n",
    "conexion.close()\n",
    "# Mostrar los resultados\n",
    "for fila in resultado:\n",
    "    print(fila)"
   ]
  },
  {
   "cell_type": "markdown",
   "metadata": {},
   "source": [
    "Un siguiente ejemplo"
   ]
  },
  {
   "cell_type": "code",
   "execution_count": 26,
   "metadata": {},
   "outputs": [
    {
     "name": "stdout",
     "output_type": "stream",
     "text": [
      "(1, 'camisa', 2, '2000')\n",
      "(2, 'pantalones', 5, '30000')\n",
      "(3, 'camisa', 6, '20000')\n",
      "(4, 'pantaloneta', 3, '15000')\n"
     ]
    }
   ],
   "source": [
    "sql = \"INSERT INTO compras (ID, nombre, cantidad, precio) VALUES (%s, %s, %s, %s)\"\n",
    "values = (4, 'pantaloneta', 3, '15000')\n",
    "cursor = conexion.cursor()\n",
    "cursor.execute(sql,values)\n",
    "conexion.commit()\n",
    "\n",
    "import sqlite3\n",
    "# Crear un cursor\n",
    "cursor = conexion.cursor()\n",
    "# Ejecutar la consulta\n",
    "cursor.execute(\"SELECT * FROM compras\")\n",
    "# Obtener los resultados\n",
    "resultado = cursor.fetchall()\n",
    "# Cerrar la conexión\n",
    "conexion.close()\n",
    "# Mostrar los resultados\n",
    "for fila in resultado:\n",
    "    print(fila)"
   ]
  },
  {
   "cell_type": "markdown",
   "metadata": {},
   "source": [
    "MODIFICAR DATOS"
   ]
  },
  {
   "cell_type": "code",
   "execution_count": 34,
   "metadata": {},
   "outputs": [],
   "source": [
    "#creamos variables\n",
    "sql = 'UPDATE compras SET cantidad = %s WHERE ID = %s'\n",
    "values = (10, 3)"
   ]
  },
  {
   "cell_type": "markdown",
   "metadata": {},
   "source": [
    "Añadimos el cursor y hacemos commit a la base"
   ]
  },
  {
   "cell_type": "code",
   "execution_count": 35,
   "metadata": {},
   "outputs": [],
   "source": [
    "cursor = conexion.cursor()\n",
    "cursor.execute(sql,values)\n",
    "conexion.commit()"
   ]
  },
  {
   "cell_type": "code",
   "execution_count": 37,
   "metadata": {},
   "outputs": [
    {
     "name": "stdout",
     "output_type": "stream",
     "text": [
      "(1, 'camisa', 2, '2000')\n",
      "(2, 'pantalones', 5, '30000')\n",
      "(3, 'camisa', 10, '20000')\n",
      "(4, 'pantaloneta', 3, '15000')\n"
     ]
    }
   ],
   "source": [
    "import sqlite3\n",
    "# Crear un cursor\n",
    "cursor = conexion.cursor()\n",
    "# Ejecutar la consulta\n",
    "cursor.execute(\"SELECT * FROM compras\")\n",
    "# Obtener los resultados\n",
    "resultado = cursor.fetchall()\n",
    "# Cerrar la conexión\n",
    "conexion.close()\n",
    "# Mostrar los resultados\n",
    "for fila in resultado:\n",
    "    print(fila)"
   ]
  },
  {
   "cell_type": "markdown",
   "metadata": {},
   "source": [
    "Siguiente ejemplo"
   ]
  },
  {
   "cell_type": "code",
   "execution_count": 42,
   "metadata": {},
   "outputs": [
    {
     "name": "stdout",
     "output_type": "stream",
     "text": [
      "(1, 'camisa', 2, '123456')\n",
      "(2, 'pantalones', 5, '30000')\n",
      "(3, 'camisa', 10, '20000')\n",
      "(4, 'pantaloneta', 3, '15000')\n"
     ]
    }
   ],
   "source": [
    "sql = 'UPDATE compras SET precio = %s WHERE ID = %s'\n",
    "values = (123456, 1)\n",
    "cursor = conexion.cursor()\n",
    "cursor.execute(sql, values)\n",
    "conexion.commit()\n",
    "\n",
    "import sqlite3\n",
    "# Crear un cursor\n",
    "cursor = conexion.cursor()\n",
    "# Ejecutar la consulta\n",
    "cursor.execute(\"SELECT * FROM compras\")\n",
    "# Obtener los resultados\n",
    "resultado = cursor.fetchall()\n",
    "# Cerrar la conexión\n",
    "conexion.close()\n",
    "# Mostrar los resultados\n",
    "for fila in resultado:\n",
    "    print(fila)"
   ]
  },
  {
   "cell_type": "markdown",
   "metadata": {},
   "source": [
    "ELIMINAR REGISTROS DE UNA BASE DE DATOS"
   ]
  },
  {
   "cell_type": "code",
   "execution_count": 54,
   "metadata": {},
   "outputs": [],
   "source": [
    "sql = 'DELETE FROM compras WHERE ID = %s'\n",
    "values = (2, )"
   ]
  },
  {
   "cell_type": "code",
   "execution_count": 55,
   "metadata": {},
   "outputs": [],
   "source": [
    "cursor = conexion.cursor()"
   ]
  },
  {
   "cell_type": "code",
   "execution_count": 56,
   "metadata": {},
   "outputs": [],
   "source": [
    "cursor.execute(sql, values)\n",
    "conexion.commit()"
   ]
  },
  {
   "cell_type": "code",
   "execution_count": 58,
   "metadata": {},
   "outputs": [
    {
     "name": "stdout",
     "output_type": "stream",
     "text": [
      "(1, 'camisa', 2, '123456')\n",
      "(3, 'camisa', 10, '20000')\n",
      "(4, 'pantaloneta', 3, '15000')\n"
     ]
    }
   ],
   "source": [
    "import sqlite3\n",
    "# Crear un cursor\n",
    "cursor = conexion.cursor()\n",
    "# Ejecutar la consulta\n",
    "cursor.execute(\"SELECT * FROM compras\")\n",
    "# Obtener los resultados\n",
    "resultado = cursor.fetchall()\n",
    "# Cerrar la conexión\n",
    "conexion.close()\n",
    "# Mostrar los resultados\n",
    "for fila in resultado:\n",
    "    print(fila)"
   ]
  },
  {
   "cell_type": "markdown",
   "metadata": {},
   "source": [
    "siguiente ejemplo"
   ]
  },
  {
   "cell_type": "code",
   "execution_count": 63,
   "metadata": {},
   "outputs": [
    {
     "name": "stdout",
     "output_type": "stream",
     "text": [
      "(1, 'camisa', 2, '123456')\n",
      "(4, 'pantaloneta', 3, '15000')\n"
     ]
    }
   ],
   "source": [
    "sql = 'DELETE FROM compras WHERE ID = %s'\n",
    "values = (3, )\n",
    "cursor = conexion.cursor()\n",
    "cursor.execute(sql, values)\n",
    "conexion.commit()\n",
    "\n",
    "import sqlite3\n",
    "# Crear un cursor\n",
    "cursor = conexion.cursor()\n",
    "# Ejecutar la consulta\n",
    "cursor.execute(\"SELECT * FROM compras\")\n",
    "# Obtener los resultados\n",
    "resultado = cursor.fetchall()\n",
    "# Cerrar la conexión\n",
    "conexion.close()\n",
    "# Mostrar los resultados\n",
    "for fila in resultado:\n",
    "    print(fila)"
   ]
  }
 ],
 "metadata": {
  "kernelspec": {
   "display_name": "Python 3",
   "language": "python",
   "name": "python3"
  },
  "language_info": {
   "codemirror_mode": {
    "name": "ipython",
    "version": 3
   },
   "file_extension": ".py",
   "mimetype": "text/x-python",
   "name": "python",
   "nbconvert_exporter": "python",
   "pygments_lexer": "ipython3",
   "version": "3.13.1"
  }
 },
 "nbformat": 4,
 "nbformat_minor": 2
}
